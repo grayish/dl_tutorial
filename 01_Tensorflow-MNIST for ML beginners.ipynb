{
 "cells": [
  {
   "cell_type": "markdown",
   "metadata": {},
   "source": [
    "# MNIST For ML Beginners \n",
    "-------------------------------\n",
    "[Tutorial link](https://www.tensorflow.org/get_started/mnist/beginners)\n",
    "\n",
    "\n",
    "\n",
    "### Dependencies\n",
    " - python3.6\n",
    " - tensorflow 1.2\n",
    " - tqdm (pip install tqdm)\n"
   ]
  },
  {
   "cell_type": "code",
   "execution_count": 1,
   "metadata": {
    "collapsed": true
   },
   "outputs": [],
   "source": [
    "import tensorflow as tf\n",
    "from tqdm import tqdm_notebook as tqdm\n",
    "from tensorflow.examples.tutorials.mnist import input_data"
   ]
  },
  {
   "cell_type": "code",
   "execution_count": 2,
   "metadata": {},
   "outputs": [
    {
     "name": "stdout",
     "output_type": "stream",
     "text": [
      "Extracting MNIST_data/train-images-idx3-ubyte.gz\n",
      "Extracting MNIST_data/train-labels-idx1-ubyte.gz\n",
      "Extracting MNIST_data/t10k-images-idx3-ubyte.gz\n",
      "Extracting MNIST_data/t10k-labels-idx1-ubyte.gz\n"
     ]
    }
   ],
   "source": [
    "mnist = input_data.read_data_sets(\"MNIST_data/\", one_hot=True)"
   ]
  },
  {
   "cell_type": "markdown",
   "metadata": {},
   "source": [
    "## Create simple linear classifier\n",
    "-----------------------------------\n",
    "28 * 28 MNIST Image, first dimension is 'None',  \n",
    "because we feed a batch of images (mini-batch) to our classification layer.  \n",
    "Tensorflow will change dimension to multifly matirx onto this input batch.  \n",
    "It's called 'broadcasting'\n",
    "\n",
    "https://www.tensorflow.org/performance/xla/broadcasting"
   ]
  },
  {
   "cell_type": "code",
   "execution_count": 3,
   "metadata": {
    "collapsed": true
   },
   "outputs": [],
   "source": [
    "W = tf.Variable(tf.random_uniform([784, 10], -0.1, 0.1))\n",
    "b = tf.Variable(tf.zeros([10]))\n",
    "x = tf.placeholder(tf.float32, [None, 784]) # input images"
   ]
  },
  {
   "cell_type": "markdown",
   "metadata": {},
   "source": [
    "### Softmax function\n",
    "----------------------------------\n",
    "https://en.wikipedia.org/wiki/Softmax_function\n",
    "\n",
    "\\begin{equation*}\n",
    "\\begin{split}\n",
    "\\boldsymbol{y} & = softmax(W * \\boldsymbol{x} + \\boldsymbol{b}) \\\\\n",
    "y_i & = \\frac {e^{z_i}} {\\sum_{k=1}^K e^{z_k}}  \\qquad\\textrm{where}\\  \\boldsymbol{z} = W * \\boldsymbol{x} + \\boldsymbol{b} \\\\\n",
    "\\end{split}\n",
    "\\end{equation*}\n"
   ]
  },
  {
   "cell_type": "code",
   "execution_count": 4,
   "metadata": {},
   "outputs": [
    {
     "name": "stdout",
     "output_type": "stream",
     "text": [
      "Tensor(\"Softmax:0\", shape=(?, 10), dtype=float32)\n"
     ]
    }
   ],
   "source": [
    "y = tf.nn.softmax(tf.matmul(x, W) + b)\n",
    "print(y)"
   ]
  },
  {
   "cell_type": "markdown",
   "metadata": {},
   "source": [
    "## Define cross entropy\n",
    "------------------------------\n",
    "https://en.wikipedia.org/wiki/Cross_entropy\n",
    "\n",
    "Entropy\n",
    "\\begin{equation*}\n",
    "H(\\boldsymbol{p}) = -\\sum \\boldsymbol{p}\\log{\\boldsymbol{p}} \\\\\n",
    "\\end{equation*}\n",
    "\n",
    "Cross entropy\n",
    "\\begin{equation*}\n",
    "\\begin{split}\n",
    "H(\\boldsymbol{p},\\boldsymbol{q}) & = H(P) + D_{KL}(\\boldsymbol{p}||\\boldsymbol{q}) \\\\\n",
    "& = -\\sum \\boldsymbol{p}\\log{\\boldsymbol{p}} + \\sum \\boldsymbol{p} \\log{\\frac{\\boldsymbol{p}}{\\boldsymbol{q}}} \\\\\n",
    "& = -\\sum \\boldsymbol{p} \\log(\\boldsymbol{q})\n",
    "\\end{split}\n",
    "\\end{equation*}"
   ]
  },
  {
   "cell_type": "markdown",
   "metadata": {},
   "source": [
    "## Define loss\n",
    "-----------------------------\n",
    "\\begin{equation*}\n",
    "L = -\\frac{1}{N}\\sum \\boldsymbol{y'}\\log{\\boldsymbol{y}}\n",
    "  \\qquad \\textrm{where} \\ N \\ \\textrm{is size of mini-batch}\n",
    "\\end{equation*}\n"
   ]
  },
  {
   "cell_type": "code",
   "execution_count": 5,
   "metadata": {
    "collapsed": true
   },
   "outputs": [],
   "source": [
    "y_ = tf.placeholder(tf.float32, [None, 10]) # corrent labels"
   ]
  },
  {
   "cell_type": "code",
   "execution_count": 6,
   "metadata": {
    "collapsed": true
   },
   "outputs": [],
   "source": [
    "# cross-entropy\n",
    "# 'axis=1' indicates that summation over each example\n",
    "H = - tf.reduce_sum(y_ * tf.log(y), axis=1) \n",
    "\n",
    "# the mean over all the examples in the batch\n",
    "# Note that these equations have numerical unstability on x < 0.\n",
    "# So, tensorflow provides helper function to deal with it, tf.nn.softmax_cross_entropy_with_logits\n",
    "# Next tutorial, you can see how to use this function.\n",
    "L = tf.reduce_mean(H) "
   ]
  },
  {
   "cell_type": "code",
   "execution_count": 7,
   "metadata": {},
   "outputs": [
    {
     "name": "stdout",
     "output_type": "stream",
     "text": [
      "Tensor(\"Placeholder_1:0\", shape=(?, 10), dtype=float32)\n",
      "Tensor(\"Neg:0\", shape=(?,), dtype=float32)\n",
      "Tensor(\"Mean:0\", shape=(), dtype=float32)\n"
     ]
    }
   ],
   "source": [
    "# Note the tensor shapes\n",
    "print(y_)\n",
    "print(H)\n",
    "print(L)"
   ]
  },
  {
   "cell_type": "markdown",
   "metadata": {},
   "source": [
    "## Create gradient descent optimizer"
   ]
  },
  {
   "cell_type": "code",
   "execution_count": 8,
   "metadata": {
    "collapsed": true
   },
   "outputs": [],
   "source": [
    "optimizer = tf.train.GradientDescentOptimizer(0.5).minimize(L)"
   ]
  },
  {
   "cell_type": "markdown",
   "metadata": {},
   "source": [
    "## Create 'InteractiveSession' for interactive python"
   ]
  },
  {
   "cell_type": "code",
   "execution_count": 9,
   "metadata": {
    "collapsed": true
   },
   "outputs": [],
   "source": [
    "sess = tf.InteractiveSession()\n",
    "tf.global_variables_initializer().run() # init all variables"
   ]
  },
  {
   "cell_type": "markdown",
   "metadata": {},
   "source": [
    "## Let's train!"
   ]
  },
  {
   "cell_type": "code",
   "execution_count": 10,
   "metadata": {},
   "outputs": [
    {
     "data": {
      "application/vnd.jupyter.widget-view+json": {
       "model_id": "be22f53df25341c4acecc08b9f4dfe41"
      }
     },
     "metadata": {},
     "output_type": "display_data"
    },
    {
     "name": "stdout",
     "output_type": "stream",
     "text": [
      "\n"
     ]
    }
   ],
   "source": [
    "for _ in tqdm(range(1000)):\n",
    "    images, labels = mnist.train.next_batch(128) # get mini-batch images and corresponding labels\n",
    "    sess.run(optimizer, feed_dict={x: images, y_: labels})"
   ]
  },
  {
   "cell_type": "markdown",
   "metadata": {},
   "source": [
    "## evaluate our model"
   ]
  },
  {
   "cell_type": "code",
   "execution_count": 11,
   "metadata": {
    "collapsed": true
   },
   "outputs": [],
   "source": [
    "correct_prediction = tf.equal(tf.argmax(y, 1), tf.argmax(y_, 1))\n",
    "accuracy = tf.reduce_mean(tf.cast(correct_prediction, tf.float32))"
   ]
  },
  {
   "cell_type": "code",
   "execution_count": 12,
   "metadata": {},
   "outputs": [
    {
     "name": "stdout",
     "output_type": "stream",
     "text": [
      "0.9209\n"
     ]
    }
   ],
   "source": [
    "print(sess.run(accuracy, feed_dict={x: mnist.test.images, y_: mnist.test.labels}))"
   ]
  },
  {
   "cell_type": "code",
   "execution_count": 13,
   "metadata": {},
   "outputs": [
    {
     "data": {
      "text/plain": [
       "array([[-0.04298268, -0.00520787, -0.03291936, ...,  0.00568776,\n",
       "        -0.04828663,  0.01818345],\n",
       "       [-0.05319693,  0.05488672,  0.02772415, ...,  0.09843419,\n",
       "        -0.00537233, -0.06864445],\n",
       "       [ 0.04682956,  0.08482439, -0.09622722, ..., -0.0853005 ,\n",
       "        -0.00257616, -0.09722564],\n",
       "       ..., \n",
       "       [-0.02836733,  0.06304901, -0.07991686, ...,  0.01970718,\n",
       "        -0.09005542, -0.0028522 ],\n",
       "       [ 0.02615906, -0.02544034,  0.06845229, ..., -0.07427039,\n",
       "         0.07561996,  0.0466641 ],\n",
       "       [ 0.01169886, -0.01846943,  0.04258705, ..., -0.05760248,\n",
       "        -0.08985155, -0.08340633]], dtype=float32)"
      ]
     },
     "execution_count": 13,
     "metadata": {},
     "output_type": "execute_result"
    }
   ],
   "source": [
    "W.eval()"
   ]
  },
  {
   "cell_type": "code",
   "execution_count": 14,
   "metadata": {},
   "outputs": [
    {
     "data": {
      "text/plain": [
       "array([-0.34494323,  0.35730207,  0.09391858, -0.28978905, -0.00995228,\n",
       "        1.29448557, -0.0966873 ,  0.62683249, -1.41084206, -0.2203224 ], dtype=float32)"
      ]
     },
     "execution_count": 14,
     "metadata": {},
     "output_type": "execute_result"
    }
   ],
   "source": [
    "b.eval()"
   ]
  }
 ],
 "metadata": {
  "kernelspec": {
   "display_name": "py36-tensorflow-gpu",
   "language": "python",
   "name": "py36-tensorflow-gpu"
  },
  "language_info": {
   "codemirror_mode": {
    "name": "ipython",
    "version": 3
   },
   "file_extension": ".py",
   "mimetype": "text/x-python",
   "name": "python",
   "nbconvert_exporter": "python",
   "pygments_lexer": "ipython3",
   "version": "3.6.1"
  }
 },
 "nbformat": 4,
 "nbformat_minor": 2
}
